{
 "cells": [
  {
   "cell_type": "code",
   "execution_count": 95,
   "id": "21750539",
   "metadata": {},
   "outputs": [],
   "source": [
    "# TODO: make a proper module and remove this hack\n",
    "import os\n",
    "import sys\n",
    "sys.path.append(\"/home/robbe/open-hardware-definitions/\")\n",
    "\n",
    "from parsers.common import DATASHEET_DIR\n",
    "\n",
    "from py_pdf_parser import tables\n",
    "from py_pdf_parser.common import BoundingBox\n",
    "from py_pdf_parser.loaders import load_file\n",
    "\n",
    "from pprint import pprint"
   ]
  },
  {
   "cell_type": "code",
   "execution_count": 7,
   "id": "f3c4d82c",
   "metadata": {},
   "outputs": [],
   "source": [
    "doc = load_file(os.path.join(DATASHEET_DIR, \"MPC5668xRM.pdf\"))\n",
    "content = doc.elements"
   ]
  },
  {
   "cell_type": "code",
   "execution_count": 85,
   "id": "7f5564f0",
   "metadata": {},
   "outputs": [],
   "source": [
    "# Filter out header and footer elements\n",
    "header_box = BoundingBox(0, 1000, 740, 1000)\n",
    "footer_box = BoundingBox(0, 1000, 0, 80)\n",
    "for page in range(1, doc.number_of_pages):\n",
    "    content -= content.filter_partially_within_bounding_box(header_box, page)\n",
    "    content -= content.filter_partially_within_bounding_box(footer_box, page)"
   ]
  },
  {
   "cell_type": "code",
   "execution_count": 103,
   "id": "466e5a73",
   "metadata": {},
   "outputs": [
    {
     "name": "stdout",
     "output_type": "stream",
     "text": [
      "Module 'Program/Data Flash': Base: 0x3fff, Page: A-3)\n",
      "Module 'Flash Emulation Mapping': Base: 0x1000000, Page: A-3)\n",
      "Module 'SRAM': Base: 0x40000000, Page: A-3)\n",
      "Module 'MLB_DIM Configuration': Base: 0xc3f84000, Page: A-8)\n",
      "Module 'I2C_C': Base: 0xc3f88000, Page: A-11)\n",
      "Module 'I2C_D': Base: 0xc3f8c000, Page: A-11)\n",
      "Module 'DSPI_C': Base: 0xc3f90000, Page: A-12)\n",
      "Module 'DSPI_D': Base: 0xc3f94000, Page: A-13)\n",
      "Module 'eSCI_J': Base: 0xc3fa0000, Page: A-14)\n",
      "Module 'eSCI_K': Base: 0xc3fa4000, Page: A-14)\n",
      "Module 'eSCI_L': Base: 0xc3fa8000, Page: A-15)\n",
      "Module 'eSCI_M': Base: 0xc3fac000, Page: A-16)\n",
      "Module 'FlexRay': Base: 0xc3fdc000, Page: A-16)\n",
      "Module 'AXBS': Base: 0xfff04000, Page: A-38)\n",
      "Module 'Sema4': Base: 0xfff10000, Page: A-39)\n",
      "Module 'MPU': Base: 0xfff14000, Page: A-40)\n",
      "Module 'SWT': Base: 0xfff38000, Page: A-42)\n",
      "Module 'STM': Base: 0xfff3c000, Page: A-42)\n",
      "Module 'ECSM': Base: 0xfff40000, Page: A-43)\n",
      "Module 'eDMA': Base: 0xfff44000, Page: A-43)\n",
      "Module 'INTC': Base: 0xfff48000, Page: A-46)\n",
      "Module 'FEC': Base: 0xfff4c000, Page: A-49)\n",
      "Module 'ADC_A': Base: 0xfff80000, Page: A-51)\n",
      "Module 'I2C_A': Base: 0xfff88000, Page: A-55)\n",
      "Module 'I2C_B': Base: 0xfff8c000, Page: A-56)\n",
      "Module 'DSPI_A': Base: 0xfff90000, Page: A-56)\n",
      "Module 'DSPI_B': Base: 0xfff94000, Page: A-57)\n",
      "Module 'eSCI_A': Base: 0xfffa0000, Page: A-58)\n",
      "Module 'eSCI_B': Base: 0xfffa4000, Page: A-58)\n",
      "Module 'eSCI_C': Base: 0xfffa8000, Page: A-59)\n",
      "Module 'eSCI_D': Base: 0xfffac000, Page: A-59)\n",
      "Module 'eSCI_E': Base: 0xfffb0000, Page: A-60)\n",
      "Module 'eSCI_F': Base: 0xfffb4000, Page: A-60)\n",
      "Module 'eSCI_G': Base: 0xfffb8000, Page: A-61)\n",
      "Module 'eSCI_H': Base: 0xfffbc000, Page: A-61)\n",
      "Module 'FlexCan_A': Base: 0xfffc0000, Page: A-62)\n",
      "Module 'FlexCan_B': Base: 0xfffc4000, Page: A-66)\n",
      "Module 'FlexCan_C': Base: 0xfffc8000, Page: A-71)\n",
      "Module 'FlexCan_D': Base: 0xfffcc000, Page: A-76)\n",
      "Module 'FlexCan_E': Base: 0xfffd0000, Page: A-80)\n",
      "Module 'FlexCan_F': Base: 0xfffd4000, Page: A-85)\n",
      "Module 'CTU_A': Base: 0xfffd8000, Page: A-89)\n",
      "Module 'DMA Multiplexer': Base: 0xfffdc000, Page: A-91)\n",
      "Module 'PIT': Base: 0xfffe0000, Page: A-92)\n",
      "Module 'eMIOS_A': Base: 0xfffe4000, Page: A-93)\n",
      "Module 'SIU': Base: 0xfffe8000, Page: A-100)\n",
      "Module 'CRP': Base: 0xfffec000, Page: A-110)\n",
      "Module 'FMPLL': Base: 0xffff0000, Page: A-111)\n",
      "Module 'PFlash Configuration': Base: 0xffff8000, Page: A-111)\n",
      "Module 'BAM': Base: 0xffffc000, Page: A-112)\n"
     ]
    }
   ],
   "source": [
    "# Extract module base addresses\n",
    "mod_base_addr_before = content.filter_by_text_contains(\"Table A-1. Module Base Addresses\")[0]\n",
    "mod_base_addr_after = content.filter_by_text_contains(\"Table A-2. MPC5668x System Memory Map\")[0]\n",
    "\n",
    "mod_base_addr_table_elements = content.between(mod_base_addr_before, mod_base_addr_after).filter_by_fonts(\"IOCJHP+Helvetica-Bold,9.0\", \"IOCJJB+Helvetica,9.0\")\n",
    "mod_base_addr_table_data = mod_base_addr_table_elements.filter_by_font(\"IOCJJB+Helvetica,9.0\")\n",
    "\n",
    "t = tables.extract_simple_table(mod_base_addr_table_data, as_text=True)\n",
    "modules = [(d[0], int(d[1].replace(\"_\", \"\"), 16), d[2].split(\"Page \")[1]) for d in t]\n",
    "\n",
    "for m in modules:\n",
    "    print(f\"Module '{m[0]}': Base: {hex(m[1])}, Page: {m[2]})\")"
   ]
  },
  {
   "cell_type": "code",
   "execution_count": null,
   "id": "17baa025",
   "metadata": {},
   "outputs": [],
   "source": [
    "# Extract register map\n",
    "mod_base_addr_before = content.filter_by_text_contains(\"Table A-4. MPC5668x Detailed Register Map\")[0]\n",
    "mod_base_addr_after = content.filter_by_text_contains(\"In this column, R/W indicates a read/write register\")[0]\n",
    "\n",
    "mod_base_addr_table_elements = content.between(mod_base_addr_before, mod_base_addr_after).filter_by_fonts(\"IOCJHP+Helvetica-Bold,9.0\", \"IOCJJB+Helvetica,9.0\")\n",
    "mod_base_addr_table_data = mod_base_addr_table_elements.filter_by_font(\"IOCJJB+Helvetica,9.0\")\n",
    "\n",
    "# for e in mod_base_addr_table_data:\n",
    "#     print(e.text())\n",
    "\n",
    "t = tables.extract_table(\n",
    "        mod_base_addr_table_data,\n",
    "        as_text=True,\n",
    "        fix_element_in_multiple_rows=True,\n",
    "        fix_element_in_multiple_cols=True\n",
    "    )"
   ]
  },
  {
   "cell_type": "code",
   "execution_count": null,
   "id": "2d6ebf04",
   "metadata": {},
   "outputs": [],
   "source": [
    "pprint(t)"
   ]
  }
 ],
 "metadata": {
  "kernelspec": {
   "display_name": "Python 3 (ipykernel)",
   "language": "python",
   "name": "python3"
  },
  "language_info": {
   "codemirror_mode": {
    "name": "ipython",
    "version": 3
   },
   "file_extension": ".py",
   "mimetype": "text/x-python",
   "name": "python",
   "nbconvert_exporter": "python",
   "pygments_lexer": "ipython3",
   "version": "3.8.10"
  }
 },
 "nbformat": 4,
 "nbformat_minor": 5
}
